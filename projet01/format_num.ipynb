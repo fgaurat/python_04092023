{
 "cells": [
  {
   "cell_type": "code",
   "execution_count": 29,
   "metadata": {},
   "outputs": [],
   "source": [
    "import numpy as np\n",
    "import pandas as pd"
   ]
  },
  {
   "cell_type": "code",
   "execution_count": 30,
   "metadata": {},
   "outputs": [],
   "source": [
    "columns = [\n",
    "    'ORIGINATION_DATE',\n",
    "    'PRINC_GRACE_PERIOD_END_DATE',\n",
    "    'NEXT_INT_PMT_DATE',\n",
    "    'NEXT_RESET_DATE',\n",
    "    'D_ARRE_TITR',\n",
    "    'MATURITY_DATE'\n",
    "    ]\n",
    "\n",
    "# =(df_BPI_Reporting_Moodys_Loan_TITPSG_[['ORIGINATION_DATE','PRINC_GRACE_PERIOD_END_DATE','NEXT_INT_PMT_DATE','NEXT_RESET_DATE','D_ARRE_TITR','MATURITY_DATE']]\n",
    "\n",
    "df_data= pd.read_csv('moodies.txt',engine='python',sep=';')\n",
    "\n"
   ]
  },
  {
   "cell_type": "code",
   "execution_count": 31,
   "metadata": {},
   "outputs": [
    {
     "data": {
      "text/html": [
       "<div>\n",
       "<style scoped>\n",
       "    .dataframe tbody tr th:only-of-type {\n",
       "        vertical-align: middle;\n",
       "    }\n",
       "\n",
       "    .dataframe tbody tr th {\n",
       "        vertical-align: top;\n",
       "    }\n",
       "\n",
       "    .dataframe thead th {\n",
       "        text-align: right;\n",
       "    }\n",
       "</style>\n",
       "<table border=\"1\" class=\"dataframe\">\n",
       "  <thead>\n",
       "    <tr style=\"text-align: right;\">\n",
       "      <th></th>\n",
       "      <th>BALLOON_AMOUNT</th>\n",
       "      <th>CURRENT_BALANCE</th>\n",
       "    </tr>\n",
       "  </thead>\n",
       "  <tbody>\n",
       "    <tr>\n",
       "      <th>0</th>\n",
       "      <td>123,23</td>\n",
       "      <td>ND5</td>\n",
       "    </tr>\n",
       "    <tr>\n",
       "      <th>1</th>\n",
       "      <td>13,23</td>\n",
       "      <td>12</td>\n",
       "    </tr>\n",
       "  </tbody>\n",
       "</table>\n",
       "</div>"
      ],
      "text/plain": [
       "  BALLOON_AMOUNT CURRENT_BALANCE\n",
       "0         123,23             ND5\n",
       "1          13,23              12"
      ]
     },
     "execution_count": 31,
     "metadata": {},
     "output_type": "execute_result"
    }
   ],
   "source": [
    "df_data"
   ]
  },
  {
   "cell_type": "code",
   "execution_count": 32,
   "metadata": {},
   "outputs": [],
   "source": [
    "# type(df_data[['ORIGINATION_DATE']])\n"
   ]
  },
  {
   "cell_type": "markdown",
   "metadata": {},
   "source": [
    "df_BPI_Reporting_Moodys_Loan_TITPSG_[['ORIGINATION_DATE','PRINC_GRACE_PERIOD_END_DATE','NEXT_INT_PMT_DATE','NEXT_RESET_DATE','D_ARRE_TITR','MATURITY_DATE']]=(df_BPI_Reporting_Moodys_Loan_TITPSG_[['ORIGINATION_DATE','PRINC_GRACE_PERIOD_END_DATE','NEXT_INT_PMT_DATE','NEXT_RESET_DATE','D_ARRE_TITR','MATURITY_DATE']]).applymap(lambda x : pd.to_datetime(x,format='%d/%m/%Y',errors='coerce'))\n"
   ]
  },
  {
   "cell_type": "code",
   "execution_count": 33,
   "metadata": {},
   "outputs": [],
   "source": [
    "# df_data['BALLOON_AMOUNT']\n",
    "# df_data['CURRENT_BALANCE']\n",
    "new_df_data = df_data[['BALLOON_AMOUNT','CURRENT_BALANCE']]\n",
    "\n"
   ]
  },
  {
   "cell_type": "code",
   "execution_count": 34,
   "metadata": {},
   "outputs": [],
   "source": [
    "def dotruc(v):\n",
    "    if isinstance(v,str):\n",
    "        v = v.replace(',','.')\n",
    "    print(v)\n",
    "    r = pd.to_numeric(v,errors='coerce')\n",
    "    return r"
   ]
  },
  {
   "cell_type": "code",
   "execution_count": 35,
   "metadata": {},
   "outputs": [
    {
     "name": "stdout",
     "output_type": "stream",
     "text": [
      "123.23\n",
      "13.23\n",
      "ND5\n",
      "12\n"
     ]
    },
    {
     "data": {
      "text/html": [
       "<div>\n",
       "<style scoped>\n",
       "    .dataframe tbody tr th:only-of-type {\n",
       "        vertical-align: middle;\n",
       "    }\n",
       "\n",
       "    .dataframe tbody tr th {\n",
       "        vertical-align: top;\n",
       "    }\n",
       "\n",
       "    .dataframe thead th {\n",
       "        text-align: right;\n",
       "    }\n",
       "</style>\n",
       "<table border=\"1\" class=\"dataframe\">\n",
       "  <thead>\n",
       "    <tr style=\"text-align: right;\">\n",
       "      <th></th>\n",
       "      <th>BALLOON_AMOUNT</th>\n",
       "      <th>CURRENT_BALANCE</th>\n",
       "      <th>RESULT_1</th>\n",
       "      <th>RESULT_2</th>\n",
       "      <th>RESULT_3</th>\n",
       "      <th>RESULT_4</th>\n",
       "    </tr>\n",
       "  </thead>\n",
       "  <tbody>\n",
       "    <tr>\n",
       "      <th>0</th>\n",
       "      <td>123.23</td>\n",
       "      <td>NaN</td>\n",
       "      <td>NaN</td>\n",
       "      <td>NaN</td>\n",
       "      <td>NaN</td>\n",
       "      <td>NaN</td>\n",
       "    </tr>\n",
       "    <tr>\n",
       "      <th>1</th>\n",
       "      <td>13.23</td>\n",
       "      <td>12.0</td>\n",
       "      <td>1.1025</td>\n",
       "      <td>158.76</td>\n",
       "      <td>25.23</td>\n",
       "      <td>1.23</td>\n",
       "    </tr>\n",
       "  </tbody>\n",
       "</table>\n",
       "</div>"
      ],
      "text/plain": [
       "   BALLOON_AMOUNT  CURRENT_BALANCE  RESULT_1  RESULT_2  RESULT_3  RESULT_4\n",
       "0          123.23              NaN       NaN       NaN       NaN       NaN\n",
       "1           13.23             12.0    1.1025    158.76     25.23      1.23"
      ]
     },
     "execution_count": 35,
     "metadata": {},
     "output_type": "execute_result"
    }
   ],
   "source": [
    "df_data_2 = new_df_data.map(dotruc)\n",
    "df_data_2['RESULT_1'] = df_data_2['BALLOON_AMOUNT'] / df_data_2['CURRENT_BALANCE']\n",
    "df_data_2['RESULT_2'] = df_data_2['BALLOON_AMOUNT'] * df_data_2['CURRENT_BALANCE']\n",
    "df_data_2['RESULT_3'] = df_data_2['BALLOON_AMOUNT'] + df_data_2['CURRENT_BALANCE']\n",
    "df_data_2['RESULT_4'] = df_data_2['BALLOON_AMOUNT'] - df_data_2['CURRENT_BALANCE']\n",
    "df_data_2"
   ]
  }
 ],
 "metadata": {
  "kernelspec": {
   "display_name": ".venv",
   "language": "python",
   "name": "python3"
  },
  "language_info": {
   "codemirror_mode": {
    "name": "ipython",
    "version": 3
   },
   "file_extension": ".py",
   "mimetype": "text/x-python",
   "name": "python",
   "nbconvert_exporter": "python",
   "pygments_lexer": "ipython3",
   "version": "3.11.4"
  },
  "orig_nbformat": 4
 },
 "nbformat": 4,
 "nbformat_minor": 2
}
