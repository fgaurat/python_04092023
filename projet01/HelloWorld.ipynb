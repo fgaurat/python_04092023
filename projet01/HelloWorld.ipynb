{
 "cells": [
  {
   "cell_type": "code",
   "execution_count": 1,
   "id": "b48bb2b1-fa95-423f-af2f-71844e462e1f",
   "metadata": {},
   "outputs": [],
   "source": [
    "a=2"
   ]
  },
  {
   "cell_type": "code",
   "execution_count": 2,
   "id": "43954276-2ef6-4534-8544-277511b3d828",
   "metadata": {},
   "outputs": [
    {
     "data": {
      "text/plain": [
       "2"
      ]
     },
     "execution_count": 2,
     "metadata": {},
     "output_type": "execute_result"
    }
   ],
   "source": [
    "a"
   ]
  },
  {
   "cell_type": "code",
   "execution_count": 3,
   "id": "012f48db-36e4-46a7-9d5a-47975f302ce4",
   "metadata": {},
   "outputs": [],
   "source": [
    "l = ['value 01','value 02']"
   ]
  },
  {
   "cell_type": "code",
   "execution_count": 4,
   "id": "bd993a64-25e2-449a-82a5-e01a8001645c",
   "metadata": {},
   "outputs": [
    {
     "data": {
      "text/plain": [
       "['value 01', 'value 02']"
      ]
     },
     "execution_count": 4,
     "metadata": {},
     "output_type": "execute_result"
    }
   ],
   "source": [
    "l"
   ]
  }
 ],
 "metadata": {
  "kernelspec": {
   "display_name": "Python 3 (ipykernel)",
   "language": "python",
   "name": "python3"
  },
  "language_info": {
   "codemirror_mode": {
    "name": "ipython",
    "version": 3
   },
   "file_extension": ".py",
   "mimetype": "text/x-python",
   "name": "python",
   "nbconvert_exporter": "python",
   "pygments_lexer": "ipython3",
   "version": "3.11.4"
  }
 },
 "nbformat": 4,
 "nbformat_minor": 5
}
